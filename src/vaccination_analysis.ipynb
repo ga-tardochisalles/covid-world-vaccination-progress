{
 "cells": [
  {
   "cell_type": "markdown",
   "metadata": {},
   "source": [
    "## Building a world immunization race with python!"
   ]
  },
  {
   "cell_type": "markdown",
   "metadata": {},
   "source": [
    "importing necessary libraries"
   ]
  },
  {
   "cell_type": "code",
   "execution_count": 1,
   "metadata": {},
   "outputs": [],
   "source": [
    "import os\n",
    "from datetime import datetime\n",
    "import matplotlib.pyplot as plt\n",
    "import pandas as pd\n",
    "pd.set_option('display.max_columns', 10)\n",
    "pd.set_option('display.max_rows', 50)\n",
    "import geopandas as gpd\n",
    "import numpy as np\n",
    "import math"
   ]
  },
  {
   "cell_type": "markdown",
   "metadata": {},
   "source": [
    "reading datasets/shapefiles for plotting"
   ]
  },
  {
   "cell_type": "code",
   "execution_count": 2,
   "metadata": {},
   "outputs": [],
   "source": [
    "# data gathered on 19th of Feb, 2021\n",
    "INFO_PATH = \"../data/country_info.csv\"  # https://www.kaggle.com/koryto/countryinfo?select=covid19countryinfo.csv\n",
    "VACCINATION_PATH = \"../data/country_vaccinations.csv\"  # https://www.kaggle.com/gpreda/covid-world-vaccination-progress\n",
    "SHAPEFILE_PATH = \"../shapefiles/ne_10m_admin_0_countries_lakes/ne_10m_admin_0_countries_lakes.shp\"  # https://www.naturalearthdata.com/http//www.naturalearthdata.com/download/10m/cultural/ne_10m_admin_0_countries_lakes.zip"
   ]
  },
  {
   "cell_type": "code",
   "execution_count": 3,
   "metadata": {},
   "outputs": [],
   "source": [
    "info_df = pd.read_csv(INFO_PATH, usecols=[\"country\", \"alpha3code\", \"pop\"])\n",
    "vac_df = pd.read_csv(VACCINATION_PATH, usecols=[\"country\", \"iso_code\", \"date\", \"total_vaccinations\",\"daily_vaccinations\"], parse_dates=[\"date\"])\n",
    "geo_df = gpd.read_file(SHAPEFILE_PATH)[['ADM0_A3', 'geometry']].to_crs('+proj=robin')"
   ]
  },
  {
   "cell_type": "code",
   "execution_count": 4,
   "metadata": {},
   "outputs": [
    {
     "data": {
      "text/html": [
       "<div>\n",
       "<style scoped>\n",
       "    .dataframe tbody tr th:only-of-type {\n",
       "        vertical-align: middle;\n",
       "    }\n",
       "\n",
       "    .dataframe tbody tr th {\n",
       "        vertical-align: top;\n",
       "    }\n",
       "\n",
       "    .dataframe thead th {\n",
       "        text-align: right;\n",
       "    }\n",
       "</style>\n",
       "<table border=\"1\" class=\"dataframe\">\n",
       "  <thead>\n",
       "    <tr style=\"text-align: right;\">\n",
       "      <th></th>\n",
       "      <th>country</th>\n",
       "      <th>iso_code</th>\n",
       "      <th>date</th>\n",
       "      <th>total_vaccinations</th>\n",
       "      <th>daily_vaccinations</th>\n",
       "    </tr>\n",
       "  </thead>\n",
       "  <tbody>\n",
       "    <tr>\n",
       "      <th>3325</th>\n",
       "      <td>United States</td>\n",
       "      <td>USA</td>\n",
       "      <td>2021-02-13</td>\n",
       "      <td>50641884.0</td>\n",
       "      <td>1657703.0</td>\n",
       "    </tr>\n",
       "    <tr>\n",
       "      <th>3326</th>\n",
       "      <td>United States</td>\n",
       "      <td>USA</td>\n",
       "      <td>2021-02-14</td>\n",
       "      <td>52884356.0</td>\n",
       "      <td>1667631.0</td>\n",
       "    </tr>\n",
       "    <tr>\n",
       "      <th>3327</th>\n",
       "      <td>United States</td>\n",
       "      <td>USA</td>\n",
       "      <td>2021-02-15</td>\n",
       "      <td>NaN</td>\n",
       "      <td>1662106.0</td>\n",
       "    </tr>\n",
       "    <tr>\n",
       "      <th>3328</th>\n",
       "      <td>United States</td>\n",
       "      <td>USA</td>\n",
       "      <td>2021-02-16</td>\n",
       "      <td>55220364.0</td>\n",
       "      <td>1716311.0</td>\n",
       "    </tr>\n",
       "    <tr>\n",
       "      <th>3329</th>\n",
       "      <td>United States</td>\n",
       "      <td>USA</td>\n",
       "      <td>2021-02-17</td>\n",
       "      <td>56281827.0</td>\n",
       "      <td>1644551.0</td>\n",
       "    </tr>\n",
       "  </tbody>\n",
       "</table>\n",
       "</div>"
      ],
      "text/plain": [
       "            country iso_code       date  total_vaccinations  \\\n",
       "3325  United States      USA 2021-02-13          50641884.0   \n",
       "3326  United States      USA 2021-02-14          52884356.0   \n",
       "3327  United States      USA 2021-02-15                 NaN   \n",
       "3328  United States      USA 2021-02-16          55220364.0   \n",
       "3329  United States      USA 2021-02-17          56281827.0   \n",
       "\n",
       "      daily_vaccinations  \n",
       "3325           1657703.0  \n",
       "3326           1667631.0  \n",
       "3327           1662106.0  \n",
       "3328           1716311.0  \n",
       "3329           1644551.0  "
      ]
     },
     "execution_count": 4,
     "metadata": {},
     "output_type": "execute_result"
    }
   ],
   "source": [
    "info_df = info_df[(~info_df['alpha3code'].isna()) & (~info_df['pop'].isna())]\n",
    "info_df['pop'] = info_df['pop'].str.replace(\",\", \"\").astype(int)\n",
    "vac_df = vac_df[~vac_df['iso_code'].isna()]\n",
    "vac_df = vac_df[vac_df['iso_code'].isin(info_df['alpha3code'].tolist())]\n",
    "vac_df.tail()"
   ]
  },
  {
   "cell_type": "markdown",
   "metadata": {},
   "source": [
    "Creating a list of countries that we have information about their daily vaccinations and an empty list to store countries that have \"trustable\" enough data. Also, initializing dictionaries to store the \"earliest\" and \"latest\"datapoint for each country and the desired daily vaccinations value for future predictions"
   ]
  },
  {
   "cell_type": "code",
   "execution_count": 5,
   "metadata": {},
   "outputs": [],
   "source": [
    "all_countries = vac_df[vac_df['daily_vaccinations'].isna() == False].country.unique().tolist()\n",
    "good_confidence_countries = []\n",
    "countries_daily_fforward = {}\n",
    "countries_first_update = {}\n",
    "countries_latest_update = {}"
   ]
  },
  {
   "cell_type": "markdown",
   "metadata": {},
   "source": [
    "Looping over the countries, selecting the ones that will be on the analysis(in this case, countries that have at least 15 days of vaccination data informed) and populating dictionaries"
   ]
  },
  {
   "cell_type": "code",
   "execution_count": 6,
   "metadata": {
    "tags": []
   },
   "outputs": [],
   "source": [
    "for c in all_countries:\n",
    "    first_non_nan_idx = vac_df[(vac_df['daily_vaccinations'].isna() == False) & (vac_df['country'] == c)].head(1).index.item()\n",
    "    this_c_df = vac_df[(vac_df.index >= first_non_nan_idx) & (vac_df.country == c)]\n",
    "    nans_after_first_nan = this_c_df.daily_vaccinations.isna().sum()\n",
    "    days_with_info = this_c_df.daily_vaccinations.notna().sum()\n",
    "    first_non_nan_update = this_c_df[this_c_df.daily_vaccinations.notna()]['date'].head(1).item()\n",
    "    latest_non_nan_update = this_c_df[this_c_df.daily_vaccinations.notna()]['date'].tail(1).item()\n",
    "    lastest_date = this_c_df['date'].tail(1).item()\n",
    "    if days_with_info < 15:\n",
    "        continue\n",
    "    else:\n",
    "        good_confidence_countries.append(c)\n",
    "        all_time_mean = this_c_df[this_c_df.daily_vaccinations.notna()]['daily_vaccinations'].mean()\n",
    "        recent_mean = this_c_df[this_c_df.daily_vaccinations.notna()]['daily_vaccinations'].tail(5).mean()\n",
    "        selected_forward_daily_vac = math.floor(0.15 * all_time_mean + recent_mean * 0.85)\n",
    "        countries_daily_fforward[c] = selected_forward_daily_vac\n",
    "        countries_first_update[c] = first_non_nan_update\n",
    "        countries_latest_update[c] = latest_non_nan_update"
   ]
  },
  {
   "cell_type": "markdown",
   "metadata": {},
   "source": [
    "For the last step, I chose to use 15% of the all time average + 85% of the five latest informed datapoints average value for my prediction of the future average daily vaccinations(\"selected_forward_daily_vac\" var). I decided to do that because it was very commom to see one of the two cases below, where a country daily vaccination number could slowly progress and then stagnate, or perhaps start in a high note(when they receive a bunch of vaccine doses and suddenly drop, stagnating. For that it would be best to not focus so much on their early vaccination weeks or days, as It cant say very much about the future"
   ]
  },
  {
   "cell_type": "code",
   "execution_count": 7,
   "metadata": {},
   "outputs": [
    {
     "data": {
      "image/png": "[encoded data removed]",
      "text/plain": [
       "<Figure size 720x288 with 3 Axes>"
      ]
     },
     "metadata": {},
     "output_type": "display_data"
    }
   ],
   "source": [
    "plt.style.use('seaborn')\n",
    "fig, axes = plt.subplots(nrows=1, ncols=2, figsize=(10, 4))\n",
    "ax23 = fig.add_subplot(111, frameon = False)\n",
    "ax23.set_xlabel('Time (Sequencial Calendar Days)', fontsize=14)\n",
    "ax23.set_xticks([])\n",
    "ax23.set_yticks([])\n",
    "ax23.set_title(\"Brazil Curve x Sri Lanka Curve\", fontsize=20)\n",
    "axes[0].plot(vac_df[vac_df['country'] == \"Brazil\"].dropna().date, vac_df[vac_df['country'] == \"Brazil\"].dropna().daily_vaccinations)\n",
    "axes[0].set_ylabel('Daily Vaccinations', fontsize=14)\n",
    "axes[1].plot(vac_df[vac_df['country'] == \"Sri Lanka\"].dropna().date, vac_df[vac_df['country'] == \"Sri Lanka\"].dropna().daily_vaccinations)\n",
    "for ax in axes:\n",
    "    ax.set_xticklabels([])\n",
    "    ax.set_xticks([])\n",
    "\n",
    "plt.show()"
   ]
  },
  {
   "cell_type": "markdown",
   "metadata": {},
   "source": [
    "keeping only desired countries"
   ]
  },
  {
   "cell_type": "code",
   "execution_count": null,
   "metadata": {},
   "outputs": [],
   "source": [
    "vac_df = vac_df[vac_df['country'].isin(good_confidence_countries)]"
   ]
  },
  {
   "cell_type": "markdown",
   "metadata": {},
   "source": [
    "Next, I will be creating a DataFrame where each row represents a {date,country} pair, with dates ranging from our first entry of daily vaccination until 2023. First I should know the starting date"
   ]
  },
  {
   "cell_type": "code",
   "execution_count": 8,
   "metadata": {},
   "outputs": [
    {
     "data": {
      "text/html": [
       "<div>\n",
       "<style scoped>\n",
       "    .dataframe tbody tr th:only-of-type {\n",
       "        vertical-align: middle;\n",
       "    }\n",
       "\n",
       "    .dataframe tbody tr th {\n",
       "        vertical-align: top;\n",
       "    }\n",
       "\n",
       "    .dataframe thead th {\n",
       "        text-align: right;\n",
       "    }\n",
       "</style>\n",
       "<table border=\"1\" class=\"dataframe\">\n",
       "  <thead>\n",
       "    <tr style=\"text-align: right;\">\n",
       "      <th></th>\n",
       "      <th>country</th>\n",
       "      <th>iso_code</th>\n",
       "      <th>date</th>\n",
       "      <th>total_vaccinations</th>\n",
       "      <th>daily_vaccinations</th>\n",
       "    </tr>\n",
       "  </thead>\n",
       "  <tbody>\n",
       "    <tr>\n",
       "      <th>3205</th>\n",
       "      <td>United Kingdom</td>\n",
       "      <td>GBR</td>\n",
       "      <td>2020-12-14</td>\n",
       "      <td>NaN</td>\n",
       "      <td>83940.0</td>\n",
       "    </tr>\n",
       "  </tbody>\n",
       "</table>\n",
       "</div>"
      ],
      "text/plain": [
       "             country iso_code       date  total_vaccinations  \\\n",
       "3205  United Kingdom      GBR 2020-12-14                 NaN   \n",
       "\n",
       "      daily_vaccinations  \n",
       "3205             83940.0  "
      ]
     },
     "execution_count": 8,
     "metadata": {},
     "output_type": "execute_result"
    }
   ],
   "source": [
    "vac_df[vac_df['date'] == vac_df[vac_df.daily_vaccinations.notna()]['date'].min()]"
   ]
  },
  {
   "cell_type": "markdown",
   "metadata": {},
   "source": [
    "Creating the DataFrame with the correct range of dates and country names, calling it \"clean_df\""
   ]
  },
  {
   "cell_type": "code",
   "execution_count": 9,
   "metadata": {},
   "outputs": [],
   "source": [
    "def create_country_date_df(countries, start, end):\n",
    "    all_dfs = []\n",
    "    for country in countries:\n",
    "        df = pd.DataFrame({\"date\": pd.date_range(start, end), \"country\": country})\n",
    "        all_dfs.append(df)\n",
    "    concat_df = pd.concat(all_dfs, ignore_index=True)\n",
    "    return concat_df\n",
    "clean_df = create_country_date_df(good_confidence_countries, '2020-12-14', '2022-12-31')"
   ]
  },
  {
   "cell_type": "markdown",
   "metadata": {},
   "source": [
    "Merging it with \"vac_df\" and \"info_df\", to get daily vaccination values(fixing iso_code column when it is NaN) and total needed vaccines by country(2 * population, since two doses are needed for each individual)"
   ]
  },
  {
   "cell_type": "code",
   "execution_count": 10,
   "metadata": {
    "tags": []
   },
   "outputs": [],
   "source": [
    "clean_df = pd.merge(left=clean_df, right=vac_df, how='left', on=['date','country'])\n",
    "clean_df[\"iso_code\"] = clean_df.groupby(\"country\").transform(lambda x: x.fillna(method=\"bfill\"))[\"iso_code\"]\n",
    "clean_df[\"iso_code\"] = clean_df.groupby(\"country\").transform(lambda x: x.fillna(method=\"ffill\"))[\"iso_code\"]\n",
    "clean_df = clean_df.merge(info_df[[\"alpha3code\", \"pop\"]], how=\"left\", left_on=\"iso_code\", right_on=\"alpha3code\").drop(['alpha3code'], axis=1).rename({\"pop\":\"needed_vaccines\"}, axis=1)\n",
    "clean_df['needed_vaccines'] = clean_df['needed_vaccines'].astype(np.int64) * 2 # converting from numpy.int32 to numpy.int64 to prevent overflow"
   ]
  },
  {
   "cell_type": "markdown",
   "metadata": {},
   "source": [
    "filling in the \"daily_vaccinations\" column NaNs, using the already defined daily average when NaNs apper in the future(after the last datapoint of a country), zeros when it happens earlier than the first datapoint or simply fowardfilling when it happens between those dates"
   ]
  },
  {
   "cell_type": "code",
   "execution_count": 11,
   "metadata": {},
   "outputs": [],
   "source": [
    "def correct_daily_vac_col(x):\n",
    "    dt = x['date']\n",
    "    country = x['country']\n",
    "    before_first_info = dt < countries_first_update[country]\n",
    "    after_last_info = dt > countries_latest_update[country]\n",
    "    if before_first_info:\n",
    "        return 0\n",
    "    elif after_last_info:\n",
    "        return countries_daily_fforward[country]\n",
    "    elif pd.isnull(x['daily_vaccinations']):\n",
    "        return x['daily_vaccinations']\n",
    "    else:\n",
    "        return math.floor(x['daily_vaccinations'])\n",
    "clean_df['daily_vaccinations'] = clean_df.apply(lambda x: correct_daily_vac_col(x), axis=1)\n",
    "clean_df['daily_vaccinations'] = clean_df['daily_vaccinations'].fillna(method=\"ffill\")"
   ]
  },
  {
   "cell_type": "markdown",
   "metadata": {},
   "source": [
    "Finding the % of the total population immunized on each date, for every country"
   ]
  },
  {
   "cell_type": "code",
   "execution_count": 12,
   "metadata": {},
   "outputs": [],
   "source": [
    "clean_df[\"total_vaccinations\"] = clean_df.groupby(['country'])['daily_vaccinations'].cumsum(axis=0)\n",
    "clean_df[\"immunization_coverage\"] = np.where((clean_df.total_vaccinations / clean_df.needed_vaccines) < 1, (clean_df.total_vaccinations / clean_df.needed_vaccines), 1)\n",
    "clean_df['immunization_coverage'] = clean_df['immunization_coverage'] * 100  # transforming it to [0, 100] range"
   ]
  },
  {
   "cell_type": "markdown",
   "metadata": {},
   "source": [
    "Merging it to the geopandas dataframe(rows of countries that are missing data will have NaNs)"
   ]
  },
  {
   "cell_type": "code",
   "execution_count": 13,
   "metadata": {},
   "outputs": [],
   "source": [
    "merged = pd.merge(geo_df, clean_df, how='left', left_on='ADM0_A3', right_on='iso_code').drop([\"iso_code\"], axis=1)"
   ]
  },
  {
   "cell_type": "markdown",
   "metadata": {},
   "source": [
    "iterating over each sequential date, building the leaderboard and plotting/saving the plots(in this case only three plots per month)"
   ]
  },
  {
   "cell_type": "code",
   "execution_count": 21,
   "metadata": {},
   "outputs": [],
   "source": [
    "title = \"      COVID-19 World Immunization Progress Until 2023\"\n",
    "description = \"If vaccination across various countries remain in the same pace(as on February 19th, 2021), thats how the race goes.\\n\"\\\n",
    "\"                   Data: Our World in Data - ourworldindata.org • Author: Gabriel Tardochi Salles\".strip()\n",
    "# set a variable that will call whatever column we want to visualise on the map\n",
    "variable = 'immunization_coverage'\n",
    "# set the range for the choropleth\n",
    "vmin, vmax = 0, 100\n",
    "\n",
    "completely_immunized = []\n",
    "ranking = ''\n",
    "# building and saving the ranking while creating the img files\n",
    "for date in clean_df.date.unique():\n",
    "    this_plot = merged[(merged['date'] == date) | (merged['date'].isna())]\n",
    "    date_time = pd.to_datetime(str(date)) \n",
    "    date_string_to_plot = date_time.strftime(\"%b, %Y\")\n",
    "    date_string_to_save = date_time.strftime(\"%Y%m%d\")\n",
    "    month_year_only = date_time.strftime(\"%b/%Y\")\n",
    "    saving_path = f\"../out/images/img_{date_string_to_save}.jpg\"\n",
    "    \n",
    "    # checking if someone got 100%\n",
    "    now_completed_countries = this_plot[(this_plot['immunization_coverage'] == 100) & ~(this_plot['country'].isin(completely_immunized))]['country'].tolist()\n",
    "    for country in now_completed_countries:\n",
    "        completely_immunized.append(country)\n",
    "        podium_len = len(completely_immunized)\n",
    "        suf = lambda n: \"%d%s\"%(n,{1:\"st\",2:\"nd\",3:\"rd\"}.get(n if n<20 else n%10,\"th\"))\n",
    "        ranking += f\"{suf(podium_len)} - {country} ({month_year_only})\\n\"\n",
    "    if date_string_to_save == \"20221231\":\n",
    "        ranking += \"                . . .\"\n",
    "    if (not (date_string_to_save.endswith(\"05\") or date_string_to_save.endswith(\"15\") or date_string_to_save.endswith(\"25\"))) or date_string_to_save == \"20221231\":\n",
    "        continue\n",
    "    # create figure and axes for Matplotlib\n",
    "    fig, ax = plt.subplots(1, figsize=(14, 7))\n",
    "    # plotting only countries that are \"competing\" on the race\n",
    "    this_plot.dropna().plot(column=variable, cmap='Purples', linewidth=0.8, ax=ax, edgecolor='.9', vmin=vmin, vmax=vmax, legend=False, norm=plt.Normalize(vmin=vmin, vmax=vmax))\n",
    "    # remove the axis\n",
    "    ax.axis('off')\n",
    "    # add a title\n",
    "    ax.set_title(title, fontdict={'fontsize': '24', 'fontweight' : '2'}, color='#0A0122')\n",
    "    # create an annotation for the data source and author\n",
    "    ax.annotate(description, xy=(0.1, .065), xycoords='figure fraction', horizontalalignment='left', verticalalignment='top', fontsize=12, color='#555555')\n",
    "    # Create colorbar as a legend\n",
    "    sm = plt.cm.ScalarMappable(cmap='Purples', norm=plt.Normalize(vmin=vmin, vmax=vmax))\n",
    "    # empty array for the data range\n",
    "    sm._A = []\n",
    "    # add the colorbar to the figure\n",
    "    cbar = fig.colorbar(sm, label=\"% of the Population Fully Immunized\", pad=0, shrink=0.7)\n",
    "    # position the annotation of the date string to the bottom left\n",
    "    ax.annotate(date_string_to_plot,\n",
    "            xy=(0.14, .265), xycoords='figure fraction',\n",
    "            horizontalalignment='center', verticalalignment='top',\n",
    "            color='#3C4052', fontsize=20)\n",
    "    \n",
    "    # position the annotation of the ranking to the bottom left, above our date string\n",
    "    ax.annotate(ranking,\n",
    "            xy=(0.032, .57), xycoords='figure fraction', color='#717171',\n",
    "            horizontalalignment='left', verticalalignment='top',\n",
    "            fontsize=11)\n",
    "    # plotting the rest of the countries differently\n",
    "    this_plot[this_plot.isna().any(axis=1)].plot(ax=ax, color='#fafafa', hatch='///')\n",
    "    fig.tight_layout(pad=0.05)\n",
    "    # saving to our images directory\n",
    "    plt.savefig(saving_path, dpi=300)\n",
    "    # if its the last date available, save it many times to make the gif \"pause\" a little bit on the last image\n",
    "    if date_string_to_save == \"20221231\":\n",
    "        for i in range(10):\n",
    "            plt.savefig(f\"../out/images/img_{date_string_to_save + str(i)}.jpg\", dpi=300)\n",
    "    plt.close('all')"
   ]
  },
  {
   "cell_type": "markdown",
   "metadata": {},
   "source": [
    "### Creating a GIF based on the Plots!"
   ]
  },
  {
   "cell_type": "markdown",
   "metadata": {},
   "source": [
    "To achieve that I followed some steps:\n",
    "* Install ImageMagick;\n",
    "* Open up the terminal and navigate to the directory where the files were saved;\n",
    "* Simply run the following command:<br>\n",
    "\"magick -delay 20 -loop 0 *.jpg immunization_race.gif\""
   ]
  },
  {
   "cell_type": "markdown",
   "metadata": {},
   "source": [
    "![SegmentLocal](../out/immunization_race.gif \"segment\")"
   ]
  }
 ],
 "metadata": {
  "kernelspec": {
   "display_name": "Python 3",
   "language": "python",
   "name": "python3"
  },
  "language_info": {
   "codemirror_mode": {
    "name": "ipython",
    "version": 3
   },
   "file_extension": ".py",
   "mimetype": "text/x-python",
   "name": "python",
   "nbconvert_exporter": "python",
   "pygments_lexer": "ipython3",
   "version": "3.8.5"
  }
 },
 "nbformat": 4,
 "nbformat_minor": 4
}
